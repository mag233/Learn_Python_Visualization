{
 "cells": [
  {
   "cell_type": "markdown",
   "id": "21cf65b3",
   "metadata": {},
   "source": [
    "# Modules and Packages\n",
    "\n",
    "## Modules\n",
    "\n",
    "A module is just a Python file (.py) that you can import and use in another file.\n",
    "\n",
    "Think of it as a “magic scroll” you wrote earlier that you can whip out anytime.\n",
    "\n",
    "You can create your own modules or use built-in modules like `math`, `os`, and `sys`.\n",
    "\n",
    "The basic syntax for importing a module is `import module_name`. After importing, you can access the functions and variables defined in that module using the dot notation (module_name.function_name).\n"
   ]
  },
  {
   "cell_type": "code",
   "execution_count": null,
   "id": "3709a81e",
   "metadata": {},
   "outputs": [
    {
     "name": "stdout",
     "output_type": "stream",
     "text": [
      "Casting fireball!\n",
      "Casting heal!\n"
     ]
    }
   ],
   "source": [
    "import spells\n",
    "\n",
    "spells.fireball()  # Output: Casting fireball!\n",
    "spells.heal()      # Output: Casting heal!"
   ]
  },
  {
   "cell_type": "markdown",
   "id": "1e96abfc",
   "metadata": {},
   "source": [
    "### Why use modules?\n",
    "\n",
    "- Keeps your code organized.\n",
    "\n",
    "- Lets you reuse code—no need to copy-paste your 900-line attack() function.\n"
   ]
  },
  {
   "cell_type": "code",
   "execution_count": null,
   "id": "5912b0e2",
   "metadata": {},
   "outputs": [
    {
     "name": "stdout",
     "output_type": "stream",
     "text": [
      "4.0\n",
      "3.141592653589793\n",
      "1.0\n",
      "[1 2 3]\n"
     ]
    }
   ],
   "source": [
    "# Importing a built-in module\n",
    "import math\n",
    "print(math.sqrt(16))  # Output: 4.0 \n",
    "\n",
    "# Importing specific functions from a module\n",
    "from math import pi, sin\n",
    "print(pi)  # Output: 3.141592653589793\n",
    "print(sin(pi / 2))  # Output: 1.0\n",
    "# In this case, you don't need to use the math prefix to access pi and sin, as they are imported directly into the current namespace.\n",
    "\n",
    "# Importing a module with an alias\n",
    "import numpy as np\n",
    "array = np.array([1, 2, 3])\n",
    "print(array)  # Output: [1 2 3]"
   ]
  },
  {
   "cell_type": "markdown",
   "id": "77d1db5c",
   "metadata": {},
   "source": [
    "## 📦 What is a Package?\n",
    "\n",
    "A package is a folder that contains a bunch of modules and maybe even other packages.\n",
    "Think of it as your backpack, with many different scrolls and items inside.\n",
    "\n",
    "A package is just a directory with a special `__init__.py` file in it (even if it’s empty).\n",
    "\n",
    "The `__init__.py` file tells Python, “Yo, this folder is a package—don’t ignore me!”\n",
    "\n",
    "Example structure:\n",
    "\n",
    "```plaintext\n",
    "my_adventure/\n",
    "│\n",
    "├── __init__.py        # marks folder as a package\n",
    "├── spells.py          # module\n",
    "├── inventory.py       # module\n",
    "└── weapons/\n",
    "    ├── __init__.py    # subpackage!\n",
    "    ├── swords.py\n",
    "    └── bows.py\n",
    "```\n",
    "\n",
    "Then you can do:\n",
    "\n",
    "```python\n",
    "from my_adventure import spells\n",
    "from my_adventure.inventory import get_item\n",
    "\n",
    "spells.cast_fireball()\n",
    "get_item(\"health_potion\")\n",
    "```\n",
    "\n",
    "### Why Should You Care?\n",
    "\n",
    "- Modules let you break big code into smaller, bite-sized pieces (sanity preserved!).\n",
    "\n",
    "- Packages let you organize big projects, share them, and even publish them for others to use.\n",
    "\n",
    "- The entire Python ecosystem (like NumPy, pandas, requests, matplotlib) is just a giant package zoo."
   ]
  },
  {
   "cell_type": "markdown",
   "id": "fa022273",
   "metadata": {},
   "source": [
    "\n",
    "#### Commonly Used Modules and Their Functions (Table)       \n",
    "| Module      | Common Functions/Classes                | Description                                      |\n",
    "|-------------|-----------------------------------------|--------------------------------------------------|\n",
    "| `math`      | `sqrt()`, `pow()`, `sin()`, `cos()`, `tan()` | Mathematical functions for basic operations     |\n",
    "| `os`        | `listdir()`, `path.join()`, `getcwd()` | Interact with the operating system, file paths, and directories |\n",
    "| `sys`       | `argv`, `exit()`, `version`            | Access system-specific parameters and functions, command-line arguments |\n",
    "| `random`    | `randint()`, `choice()`, `shuffle()` | Generate random numbers, select random elements from a list |\n",
    "| `datetime`  | `now()`, `timedelta()`, `strftime()` | Work with dates and times, perform date arithmetic, format dates |\n",
    "\n",
    "There are also many third-party libraries available for specific tasks, such as `requests` for HTTP requests, `pandas` for data manipulation, and `numpy` for numerical computations. You can install these libraries using `pip`, Python's package manager.\n",
    "\n",
    "```bash\n",
    "pip install requests pandas numpy\n",
    "``` \n",
    "-------\n"
   ]
  },
  {
   "cell_type": "code",
   "execution_count": null,
   "id": "26d52606",
   "metadata": {},
   "outputs": [],
   "source": [
    "# os module\n",
    "# This module provides a way of using operating system dependent functionality like reading or writing to the file system.\n",
    "import os\n",
    "print(\"Current working directory:\", os.getcwd()) # Get current working directory\n",
    "print(\"List of files in current directory:\", os.listdir('.')) # List files in current directory\n",
    "print(\"Is 'my_script.py' a file?\", os.path.isfile('my_script.py')) # Check if a file exists\n",
    "print(\"Is 'my_script.py' a directory?\", os.path.isdir('my_script.py')) # Check if a directory exists\n",
    "print(\"Creating a new directory 'new_dir':\", os.mkdir('new_dir')) # Create a new directory\n",
    "print(\"Removing the directory 'new_dir':\", os.rmdir('new_dir')) # Remove a directory\n",
    "print(\"Changing current working directory to parent directory:\", os.chdir('..')) # Change current working directory\n",
    "print(\"Current working directory after change:\", os.getcwd()) # Get current working directory after change\n",
    "print(\"List of files in parent directory:\", os.listdir('.')) # List files in parent directory\n",
    "print(\"Creating a new file 'test.txt':\", open('test.txt', 'w').close()) # Create a new file\n",
    "print(\"Current working directory:\", os.getcwd()) # Get current working directory\n",
    "print(\"List of files in current directory:\", os.listdir('.')) # List files in current directory\n",
    "print(\"Removing the file 'test.txt':\", os.remove('test.txt')) # Remove a file"
   ]
  },
  {
   "cell_type": "code",
   "execution_count": null,
   "id": "ebb4f4f5",
   "metadata": {},
   "outputs": [],
   "source": [
    "#sys module\n",
    "# This module provides access to some variables used or maintained by the interpreter and to functions that interact with the interpreter.\n",
    "import sys\n",
    "print(\"Python version:\", sys.version) # Get Python version\n",
    "print(\"Platform:\", sys.platform) # Get platform information\n",
    "print(\"Command line arguments:\", sys.argv) # Get command line arguments\n",
    "print(\"Exit code:\", sys.exit(0)) # Exit the program with a specific exit code\n"
   ]
  },
  {
   "cell_type": "markdown",
   "id": "7693da47",
   "metadata": {},
   "source": [
    "### Quick Note for os and sys modules\n",
    "- **os module**: Provides a way to use operating system-dependent functionality like reading or writing to the file system, managing directories, and executing system commands.\n",
    "\n",
    "- **sys module**: Provides access to some variables used or maintained by the interpreter and to functions that interact with the interpreter, such as command-line arguments, Python version, and platform information.    \n",
    "The difference between `os` and `sys` modules is that `os` is used for operating system interactions, while `sys` is used for interpreter-related functionalities.\n",
    "-----\n",
    "\n",
    "\n"
   ]
  }
 ],
 "metadata": {
  "kernelspec": {
   "display_name": "base",
   "language": "python",
   "name": "python3"
  },
  "language_info": {
   "codemirror_mode": {
    "name": "ipython",
    "version": 3
   },
   "file_extension": ".py",
   "mimetype": "text/x-python",
   "name": "python",
   "nbconvert_exporter": "python",
   "pygments_lexer": "ipython3",
   "version": "3.11.5"
  }
 },
 "nbformat": 4,
 "nbformat_minor": 5
}
